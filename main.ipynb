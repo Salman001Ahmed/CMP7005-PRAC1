{
 "cells": [
  {
   "cell_type": "markdown",
   "id": "08a413c9",
   "metadata": {},
   "source": [
    "# Task 1: Data Handling"
   ]
  },
  {
   "cell_type": "code",
   "execution_count": 1,
   "id": "a0fe2a87",
   "metadata": {},
   "outputs": [
    {
     "data": {
      "application/vnd.microsoft.datawrangler.viewer.v0+json": {
       "columns": [
        {
         "name": "index",
         "rawType": "int64",
         "type": "integer"
        },
        {
         "name": "No",
         "rawType": "int64",
         "type": "integer"
        },
        {
         "name": "year",
         "rawType": "int64",
         "type": "integer"
        },
        {
         "name": "month",
         "rawType": "int64",
         "type": "integer"
        },
        {
         "name": "day",
         "rawType": "int64",
         "type": "integer"
        },
        {
         "name": "hour",
         "rawType": "int64",
         "type": "integer"
        },
        {
         "name": "PM2.5",
         "rawType": "float64",
         "type": "float"
        },
        {
         "name": "PM10",
         "rawType": "float64",
         "type": "float"
        },
        {
         "name": "SO2",
         "rawType": "float64",
         "type": "float"
        },
        {
         "name": "NO2",
         "rawType": "float64",
         "type": "float"
        },
        {
         "name": "CO",
         "rawType": "float64",
         "type": "float"
        },
        {
         "name": "O3",
         "rawType": "float64",
         "type": "float"
        },
        {
         "name": "TEMP",
         "rawType": "float64",
         "type": "float"
        },
        {
         "name": "PRES",
         "rawType": "float64",
         "type": "float"
        },
        {
         "name": "DEWP",
         "rawType": "float64",
         "type": "float"
        },
        {
         "name": "RAIN",
         "rawType": "float64",
         "type": "float"
        },
        {
         "name": "wd",
         "rawType": "object",
         "type": "string"
        },
        {
         "name": "WSPM",
         "rawType": "float64",
         "type": "float"
        },
        {
         "name": "station",
         "rawType": "object",
         "type": "string"
        }
       ],
       "conversionMethod": "pd.DataFrame",
       "ref": "f600edf6-7ad7-4cb4-b809-be2e347d8257",
       "rows": [
        [
         "0",
         "1",
         "2013",
         "3",
         "1",
         "0",
         "3.0",
         "6.0",
         "13.0",
         "7.0",
         "300.0",
         "85.0",
         "-2.3",
         "1020.8",
         "-19.7",
         "0.0",
         "E",
         "0.5",
         "Changping"
        ],
        [
         "1",
         "2",
         "2013",
         "3",
         "1",
         "1",
         "3.0",
         "3.0",
         "6.0",
         "6.0",
         "300.0",
         "85.0",
         "-2.5",
         "1021.3",
         "-19.0",
         "0.0",
         "ENE",
         "0.7",
         "Changping"
        ],
        [
         "2",
         "3",
         "2013",
         "3",
         "1",
         "2",
         "3.0",
         "3.0",
         "22.0",
         "13.0",
         "400.0",
         "74.0",
         "-3.0",
         "1021.3",
         "-19.9",
         "0.0",
         "ENE",
         "0.2",
         "Changping"
        ],
        [
         "3",
         "4",
         "2013",
         "3",
         "1",
         "3",
         "3.0",
         "6.0",
         "12.0",
         "8.0",
         "300.0",
         "81.0",
         "-3.6",
         "1021.8",
         "-19.1",
         "0.0",
         "NNE",
         "1.0",
         "Changping"
        ],
        [
         "4",
         "5",
         "2013",
         "3",
         "1",
         "4",
         "3.0",
         "3.0",
         "14.0",
         "8.0",
         "300.0",
         "81.0",
         "-3.5",
         "1022.3",
         "-19.4",
         "0.0",
         "N",
         "2.1",
         "Changping"
        ]
       ],
       "shape": {
        "columns": 18,
        "rows": 5
       }
      },
      "text/html": [
       "<div>\n",
       "<style scoped>\n",
       "    .dataframe tbody tr th:only-of-type {\n",
       "        vertical-align: middle;\n",
       "    }\n",
       "\n",
       "    .dataframe tbody tr th {\n",
       "        vertical-align: top;\n",
       "    }\n",
       "\n",
       "    .dataframe thead th {\n",
       "        text-align: right;\n",
       "    }\n",
       "</style>\n",
       "<table border=\"1\" class=\"dataframe\">\n",
       "  <thead>\n",
       "    <tr style=\"text-align: right;\">\n",
       "      <th></th>\n",
       "      <th>No</th>\n",
       "      <th>year</th>\n",
       "      <th>month</th>\n",
       "      <th>day</th>\n",
       "      <th>hour</th>\n",
       "      <th>PM2.5</th>\n",
       "      <th>PM10</th>\n",
       "      <th>SO2</th>\n",
       "      <th>NO2</th>\n",
       "      <th>CO</th>\n",
       "      <th>O3</th>\n",
       "      <th>TEMP</th>\n",
       "      <th>PRES</th>\n",
       "      <th>DEWP</th>\n",
       "      <th>RAIN</th>\n",
       "      <th>wd</th>\n",
       "      <th>WSPM</th>\n",
       "      <th>station</th>\n",
       "    </tr>\n",
       "  </thead>\n",
       "  <tbody>\n",
       "    <tr>\n",
       "      <th>0</th>\n",
       "      <td>1</td>\n",
       "      <td>2013</td>\n",
       "      <td>3</td>\n",
       "      <td>1</td>\n",
       "      <td>0</td>\n",
       "      <td>3.0</td>\n",
       "      <td>6.0</td>\n",
       "      <td>13.0</td>\n",
       "      <td>7.0</td>\n",
       "      <td>300.0</td>\n",
       "      <td>85.0</td>\n",
       "      <td>-2.3</td>\n",
       "      <td>1020.8</td>\n",
       "      <td>-19.7</td>\n",
       "      <td>0.0</td>\n",
       "      <td>E</td>\n",
       "      <td>0.5</td>\n",
       "      <td>Changping</td>\n",
       "    </tr>\n",
       "    <tr>\n",
       "      <th>1</th>\n",
       "      <td>2</td>\n",
       "      <td>2013</td>\n",
       "      <td>3</td>\n",
       "      <td>1</td>\n",
       "      <td>1</td>\n",
       "      <td>3.0</td>\n",
       "      <td>3.0</td>\n",
       "      <td>6.0</td>\n",
       "      <td>6.0</td>\n",
       "      <td>300.0</td>\n",
       "      <td>85.0</td>\n",
       "      <td>-2.5</td>\n",
       "      <td>1021.3</td>\n",
       "      <td>-19.0</td>\n",
       "      <td>0.0</td>\n",
       "      <td>ENE</td>\n",
       "      <td>0.7</td>\n",
       "      <td>Changping</td>\n",
       "    </tr>\n",
       "    <tr>\n",
       "      <th>2</th>\n",
       "      <td>3</td>\n",
       "      <td>2013</td>\n",
       "      <td>3</td>\n",
       "      <td>1</td>\n",
       "      <td>2</td>\n",
       "      <td>3.0</td>\n",
       "      <td>3.0</td>\n",
       "      <td>22.0</td>\n",
       "      <td>13.0</td>\n",
       "      <td>400.0</td>\n",
       "      <td>74.0</td>\n",
       "      <td>-3.0</td>\n",
       "      <td>1021.3</td>\n",
       "      <td>-19.9</td>\n",
       "      <td>0.0</td>\n",
       "      <td>ENE</td>\n",
       "      <td>0.2</td>\n",
       "      <td>Changping</td>\n",
       "    </tr>\n",
       "    <tr>\n",
       "      <th>3</th>\n",
       "      <td>4</td>\n",
       "      <td>2013</td>\n",
       "      <td>3</td>\n",
       "      <td>1</td>\n",
       "      <td>3</td>\n",
       "      <td>3.0</td>\n",
       "      <td>6.0</td>\n",
       "      <td>12.0</td>\n",
       "      <td>8.0</td>\n",
       "      <td>300.0</td>\n",
       "      <td>81.0</td>\n",
       "      <td>-3.6</td>\n",
       "      <td>1021.8</td>\n",
       "      <td>-19.1</td>\n",
       "      <td>0.0</td>\n",
       "      <td>NNE</td>\n",
       "      <td>1.0</td>\n",
       "      <td>Changping</td>\n",
       "    </tr>\n",
       "    <tr>\n",
       "      <th>4</th>\n",
       "      <td>5</td>\n",
       "      <td>2013</td>\n",
       "      <td>3</td>\n",
       "      <td>1</td>\n",
       "      <td>4</td>\n",
       "      <td>3.0</td>\n",
       "      <td>3.0</td>\n",
       "      <td>14.0</td>\n",
       "      <td>8.0</td>\n",
       "      <td>300.0</td>\n",
       "      <td>81.0</td>\n",
       "      <td>-3.5</td>\n",
       "      <td>1022.3</td>\n",
       "      <td>-19.4</td>\n",
       "      <td>0.0</td>\n",
       "      <td>N</td>\n",
       "      <td>2.1</td>\n",
       "      <td>Changping</td>\n",
       "    </tr>\n",
       "  </tbody>\n",
       "</table>\n",
       "</div>"
      ],
      "text/plain": [
       "   No  year  month  day  hour  PM2.5  PM10   SO2   NO2     CO    O3  TEMP  \\\n",
       "0   1  2013      3    1     0    3.0   6.0  13.0   7.0  300.0  85.0  -2.3   \n",
       "1   2  2013      3    1     1    3.0   3.0   6.0   6.0  300.0  85.0  -2.5   \n",
       "2   3  2013      3    1     2    3.0   3.0  22.0  13.0  400.0  74.0  -3.0   \n",
       "3   4  2013      3    1     3    3.0   6.0  12.0   8.0  300.0  81.0  -3.6   \n",
       "4   5  2013      3    1     4    3.0   3.0  14.0   8.0  300.0  81.0  -3.5   \n",
       "\n",
       "     PRES  DEWP  RAIN   wd  WSPM    station  \n",
       "0  1020.8 -19.7   0.0    E   0.5  Changping  \n",
       "1  1021.3 -19.0   0.0  ENE   0.7  Changping  \n",
       "2  1021.3 -19.9   0.0  ENE   0.2  Changping  \n",
       "3  1021.8 -19.1   0.0  NNE   1.0  Changping  \n",
       "4  1022.3 -19.4   0.0    N   2.1  Changping  "
      ]
     },
     "execution_count": 1,
     "metadata": {},
     "output_type": "execute_result"
    }
   ],
   "source": [
    "import pandas as pd\n",
    "import pandas as pd\n",
    "import numpy as np\n",
    "import matplotlib.pyplot as plt\n",
    "import seaborn as sns\n",
    "\n",
    "# Optional: For better aesthetics\n",
    "sns.set(style=\"dark\")\n",
    "sns.set_palette(\"tab10\")\n",
    "%matplotlib inline\n",
    "\n",
    "# Load the datasets\n",
    "data_changping = pd.read_csv(\"PRSA_Data_Changping_20130301-20170228.csv\")\n",
    "data_huairou = pd.read_csv(\"PRSA_Data_Huairou_20130301-20170228.csv\")\n",
    "\n",
    "# Concatenate the two datasets\n",
    "data = pd.concat([data_changping, data_huairou], ignore_index=True)\n",
    "\n",
    "# Show the first few rows\n",
    "data.head()"
   ]
  },
  {
   "cell_type": "markdown",
   "id": "6015cc9d",
   "metadata": {},
   "source": [
    "# Task 2: EDA"
   ]
  },
  {
   "cell_type": "markdown",
   "id": "88211eb8",
   "metadata": {},
   "source": [
    "## Task 2a: Fundamental Data Understanding"
   ]
  },
  {
   "cell_type": "code",
   "execution_count": 2,
   "id": "229db43a",
   "metadata": {},
   "outputs": [
    {
     "data": {
      "application/vnd.microsoft.datawrangler.viewer.v0+json": {
       "columns": [
        {
         "name": "index",
         "rawType": "object",
         "type": "string"
        },
        {
         "name": "count",
         "rawType": "float64",
         "type": "float"
        },
        {
         "name": "mean",
         "rawType": "float64",
         "type": "float"
        },
        {
         "name": "std",
         "rawType": "float64",
         "type": "float"
        },
        {
         "name": "min",
         "rawType": "float64",
         "type": "float"
        },
        {
         "name": "25%",
         "rawType": "float64",
         "type": "float"
        },
        {
         "name": "50%",
         "rawType": "float64",
         "type": "float"
        },
        {
         "name": "75%",
         "rawType": "float64",
         "type": "float"
        },
        {
         "name": "max",
         "rawType": "float64",
         "type": "float"
        }
       ],
       "conversionMethod": "pd.DataFrame",
       "ref": "d6659ae5-daba-4b9e-8f13-b7a0ee59e389",
       "rows": [
        [
         "No",
         "70128.0",
         "17532.5",
         "10122.17708487157",
         "1.0",
         "8766.75",
         "17532.5",
         "26298.25",
         "35064.0"
        ],
        [
         "year",
         "70128.0",
         "2014.662559890486",
         "1.1772050383506176",
         "2013.0",
         "2014.0",
         "2015.0",
         "2016.0",
         "2017.0"
        ],
        [
         "month",
         "70128.0",
         "6.522929500342231",
         "3.448727770626834",
         "1.0",
         "4.0",
         "7.0",
         "10.0",
         "12.0"
        ],
        [
         "day",
         "70128.0",
         "15.729637234770705",
         "8.800154784348345",
         "1.0",
         "8.0",
         "16.0",
         "23.0",
         "31.0"
        ],
        [
         "hour",
         "70128.0",
         "11.5",
         "6.922235906902014",
         "0.0",
         "5.75",
         "11.5",
         "17.25",
         "23.0"
        ],
        [
         "PM2.5",
         "68401.0",
         "70.36498296808526",
         "71.78273372015903",
         "2.0",
         "18.0",
         "46.0",
         "99.0",
         "882.0"
        ],
        [
         "PM10",
         "68769.0",
         "93.07478224199858",
         "83.38041820195195",
         "2.0",
         "31.0",
         "70.0",
         "131.0",
         "999.0"
        ],
        [
         "SO2",
         "68520.0",
         "13.547517302977235",
         "20.01870539317731",
         "0.2856",
         "2.0",
         "5.0",
         "16.0",
         "315.0"
        ],
        [
         "NO2",
         "67822.0",
         "38.42339924508271",
         "28.66860258684904",
         "1.0265",
         "17.0",
         "31.0",
         "54.0",
         "231.0"
        ],
        [
         "CO",
         "67185.0",
         "1087.3323509711988",
         "1008.0297579801663",
         "100.0",
         "500.0",
         "800.0",
         "1400.0",
         "10000.0"
        ],
        [
         "O3",
         "68373.0",
         "58.87481872376523",
         "54.46799954719621",
         "0.2142",
         "17.0",
         "48.0",
         "81.0",
         "444.0"
        ],
        [
         "TEMP",
         "70024.0",
         "13.06575072163467",
         "11.57637380023425",
         "-19.9",
         "2.9",
         "14.1",
         "22.8",
         "41.4"
        ],
        [
         "PRES",
         "70025.0",
         "1007.6794262763299",
         "10.124648777155011",
         "982.4",
         "999.3",
         "1007.4",
         "1015.8",
         "1036.5"
        ],
        [
         "DEWP",
         "70022.0",
         "1.8720573534032168",
         "13.942516332848419",
         "-43.4",
         "-10.0",
         "2.3",
         "14.7",
         "29.1"
        ],
        [
         "RAIN",
         "70022.0",
         "0.06415269486732741",
         "0.8024146454373025",
         "0.0",
         "0.0",
         "0.0",
         "0.0",
         "52.1"
        ],
        [
         "WSPM",
         "70036.0",
         "1.7529370609400883",
         "1.2597392181668965",
         "0.0",
         "0.9",
         "1.4",
         "2.2",
         "12.9"
        ]
       ],
       "shape": {
        "columns": 8,
        "rows": 16
       }
      },
      "text/html": [
       "<div>\n",
       "<style scoped>\n",
       "    .dataframe tbody tr th:only-of-type {\n",
       "        vertical-align: middle;\n",
       "    }\n",
       "\n",
       "    .dataframe tbody tr th {\n",
       "        vertical-align: top;\n",
       "    }\n",
       "\n",
       "    .dataframe thead th {\n",
       "        text-align: right;\n",
       "    }\n",
       "</style>\n",
       "<table border=\"1\" class=\"dataframe\">\n",
       "  <thead>\n",
       "    <tr style=\"text-align: right;\">\n",
       "      <th></th>\n",
       "      <th>count</th>\n",
       "      <th>mean</th>\n",
       "      <th>std</th>\n",
       "      <th>min</th>\n",
       "      <th>25%</th>\n",
       "      <th>50%</th>\n",
       "      <th>75%</th>\n",
       "      <th>max</th>\n",
       "    </tr>\n",
       "  </thead>\n",
       "  <tbody>\n",
       "    <tr>\n",
       "      <th>No</th>\n",
       "      <td>70128.0</td>\n",
       "      <td>17532.500000</td>\n",
       "      <td>10122.177085</td>\n",
       "      <td>1.0000</td>\n",
       "      <td>8766.75</td>\n",
       "      <td>17532.5</td>\n",
       "      <td>26298.25</td>\n",
       "      <td>35064.0</td>\n",
       "    </tr>\n",
       "    <tr>\n",
       "      <th>year</th>\n",
       "      <td>70128.0</td>\n",
       "      <td>2014.662560</td>\n",
       "      <td>1.177205</td>\n",
       "      <td>2013.0000</td>\n",
       "      <td>2014.00</td>\n",
       "      <td>2015.0</td>\n",
       "      <td>2016.00</td>\n",
       "      <td>2017.0</td>\n",
       "    </tr>\n",
       "    <tr>\n",
       "      <th>month</th>\n",
       "      <td>70128.0</td>\n",
       "      <td>6.522930</td>\n",
       "      <td>3.448728</td>\n",
       "      <td>1.0000</td>\n",
       "      <td>4.00</td>\n",
       "      <td>7.0</td>\n",
       "      <td>10.00</td>\n",
       "      <td>12.0</td>\n",
       "    </tr>\n",
       "    <tr>\n",
       "      <th>day</th>\n",
       "      <td>70128.0</td>\n",
       "      <td>15.729637</td>\n",
       "      <td>8.800155</td>\n",
       "      <td>1.0000</td>\n",
       "      <td>8.00</td>\n",
       "      <td>16.0</td>\n",
       "      <td>23.00</td>\n",
       "      <td>31.0</td>\n",
       "    </tr>\n",
       "    <tr>\n",
       "      <th>hour</th>\n",
       "      <td>70128.0</td>\n",
       "      <td>11.500000</td>\n",
       "      <td>6.922236</td>\n",
       "      <td>0.0000</td>\n",
       "      <td>5.75</td>\n",
       "      <td>11.5</td>\n",
       "      <td>17.25</td>\n",
       "      <td>23.0</td>\n",
       "    </tr>\n",
       "    <tr>\n",
       "      <th>PM2.5</th>\n",
       "      <td>68401.0</td>\n",
       "      <td>70.364983</td>\n",
       "      <td>71.782734</td>\n",
       "      <td>2.0000</td>\n",
       "      <td>18.00</td>\n",
       "      <td>46.0</td>\n",
       "      <td>99.00</td>\n",
       "      <td>882.0</td>\n",
       "    </tr>\n",
       "    <tr>\n",
       "      <th>PM10</th>\n",
       "      <td>68769.0</td>\n",
       "      <td>93.074782</td>\n",
       "      <td>83.380418</td>\n",
       "      <td>2.0000</td>\n",
       "      <td>31.00</td>\n",
       "      <td>70.0</td>\n",
       "      <td>131.00</td>\n",
       "      <td>999.0</td>\n",
       "    </tr>\n",
       "    <tr>\n",
       "      <th>SO2</th>\n",
       "      <td>68520.0</td>\n",
       "      <td>13.547517</td>\n",
       "      <td>20.018705</td>\n",
       "      <td>0.2856</td>\n",
       "      <td>2.00</td>\n",
       "      <td>5.0</td>\n",
       "      <td>16.00</td>\n",
       "      <td>315.0</td>\n",
       "    </tr>\n",
       "    <tr>\n",
       "      <th>NO2</th>\n",
       "      <td>67822.0</td>\n",
       "      <td>38.423399</td>\n",
       "      <td>28.668603</td>\n",
       "      <td>1.0265</td>\n",
       "      <td>17.00</td>\n",
       "      <td>31.0</td>\n",
       "      <td>54.00</td>\n",
       "      <td>231.0</td>\n",
       "    </tr>\n",
       "    <tr>\n",
       "      <th>CO</th>\n",
       "      <td>67185.0</td>\n",
       "      <td>1087.332351</td>\n",
       "      <td>1008.029758</td>\n",
       "      <td>100.0000</td>\n",
       "      <td>500.00</td>\n",
       "      <td>800.0</td>\n",
       "      <td>1400.00</td>\n",
       "      <td>10000.0</td>\n",
       "    </tr>\n",
       "    <tr>\n",
       "      <th>O3</th>\n",
       "      <td>68373.0</td>\n",
       "      <td>58.874819</td>\n",
       "      <td>54.468000</td>\n",
       "      <td>0.2142</td>\n",
       "      <td>17.00</td>\n",
       "      <td>48.0</td>\n",
       "      <td>81.00</td>\n",
       "      <td>444.0</td>\n",
       "    </tr>\n",
       "    <tr>\n",
       "      <th>TEMP</th>\n",
       "      <td>70024.0</td>\n",
       "      <td>13.065751</td>\n",
       "      <td>11.576374</td>\n",
       "      <td>-19.9000</td>\n",
       "      <td>2.90</td>\n",
       "      <td>14.1</td>\n",
       "      <td>22.80</td>\n",
       "      <td>41.4</td>\n",
       "    </tr>\n",
       "    <tr>\n",
       "      <th>PRES</th>\n",
       "      <td>70025.0</td>\n",
       "      <td>1007.679426</td>\n",
       "      <td>10.124649</td>\n",
       "      <td>982.4000</td>\n",
       "      <td>999.30</td>\n",
       "      <td>1007.4</td>\n",
       "      <td>1015.80</td>\n",
       "      <td>1036.5</td>\n",
       "    </tr>\n",
       "    <tr>\n",
       "      <th>DEWP</th>\n",
       "      <td>70022.0</td>\n",
       "      <td>1.872057</td>\n",
       "      <td>13.942516</td>\n",
       "      <td>-43.4000</td>\n",
       "      <td>-10.00</td>\n",
       "      <td>2.3</td>\n",
       "      <td>14.70</td>\n",
       "      <td>29.1</td>\n",
       "    </tr>\n",
       "    <tr>\n",
       "      <th>RAIN</th>\n",
       "      <td>70022.0</td>\n",
       "      <td>0.064153</td>\n",
       "      <td>0.802415</td>\n",
       "      <td>0.0000</td>\n",
       "      <td>0.00</td>\n",
       "      <td>0.0</td>\n",
       "      <td>0.00</td>\n",
       "      <td>52.1</td>\n",
       "    </tr>\n",
       "    <tr>\n",
       "      <th>WSPM</th>\n",
       "      <td>70036.0</td>\n",
       "      <td>1.752937</td>\n",
       "      <td>1.259739</td>\n",
       "      <td>0.0000</td>\n",
       "      <td>0.90</td>\n",
       "      <td>1.4</td>\n",
       "      <td>2.20</td>\n",
       "      <td>12.9</td>\n",
       "    </tr>\n",
       "  </tbody>\n",
       "</table>\n",
       "</div>"
      ],
      "text/plain": [
       "         count          mean           std        min      25%      50%  \\\n",
       "No     70128.0  17532.500000  10122.177085     1.0000  8766.75  17532.5   \n",
       "year   70128.0   2014.662560      1.177205  2013.0000  2014.00   2015.0   \n",
       "month  70128.0      6.522930      3.448728     1.0000     4.00      7.0   \n",
       "day    70128.0     15.729637      8.800155     1.0000     8.00     16.0   \n",
       "hour   70128.0     11.500000      6.922236     0.0000     5.75     11.5   \n",
       "PM2.5  68401.0     70.364983     71.782734     2.0000    18.00     46.0   \n",
       "PM10   68769.0     93.074782     83.380418     2.0000    31.00     70.0   \n",
       "SO2    68520.0     13.547517     20.018705     0.2856     2.00      5.0   \n",
       "NO2    67822.0     38.423399     28.668603     1.0265    17.00     31.0   \n",
       "CO     67185.0   1087.332351   1008.029758   100.0000   500.00    800.0   \n",
       "O3     68373.0     58.874819     54.468000     0.2142    17.00     48.0   \n",
       "TEMP   70024.0     13.065751     11.576374   -19.9000     2.90     14.1   \n",
       "PRES   70025.0   1007.679426     10.124649   982.4000   999.30   1007.4   \n",
       "DEWP   70022.0      1.872057     13.942516   -43.4000   -10.00      2.3   \n",
       "RAIN   70022.0      0.064153      0.802415     0.0000     0.00      0.0   \n",
       "WSPM   70036.0      1.752937      1.259739     0.0000     0.90      1.4   \n",
       "\n",
       "            75%      max  \n",
       "No     26298.25  35064.0  \n",
       "year    2016.00   2017.0  \n",
       "month     10.00     12.0  \n",
       "day       23.00     31.0  \n",
       "hour      17.25     23.0  \n",
       "PM2.5     99.00    882.0  \n",
       "PM10     131.00    999.0  \n",
       "SO2       16.00    315.0  \n",
       "NO2       54.00    231.0  \n",
       "CO      1400.00  10000.0  \n",
       "O3        81.00    444.0  \n",
       "TEMP      22.80     41.4  \n",
       "PRES    1015.80   1036.5  \n",
       "DEWP      14.70     29.1  \n",
       "RAIN       0.00     52.1  \n",
       "WSPM       2.20     12.9  "
      ]
     },
     "execution_count": 2,
     "metadata": {},
     "output_type": "execute_result"
    }
   ],
   "source": [
    "data.describe().T"
   ]
  },
  {
   "cell_type": "code",
   "execution_count": null,
   "id": "e08086b0",
   "metadata": {},
   "outputs": [],
   "source": [
    "data.describe(include='object').T"
   ]
  },
  {
   "cell_type": "code",
   "execution_count": 3,
   "id": "e41dafe1",
   "metadata": {},
   "outputs": [
    {
     "data": {
      "text/plain": [
       "(70128, 18)"
      ]
     },
     "execution_count": 3,
     "metadata": {},
     "output_type": "execute_result"
    }
   ],
   "source": [
    "data.shape"
   ]
  },
  {
   "cell_type": "code",
   "execution_count": 4,
   "id": "178938bc",
   "metadata": {},
   "outputs": [
    {
     "data": {
      "text/plain": [
       "No            0\n",
       "year          0\n",
       "month         0\n",
       "day           0\n",
       "hour          0\n",
       "PM2.5      1727\n",
       "PM10       1359\n",
       "SO2        1608\n",
       "NO2        2306\n",
       "CO         2943\n",
       "O3         1755\n",
       "TEMP        104\n",
       "PRES        103\n",
       "DEWP        106\n",
       "RAIN        106\n",
       "wd          442\n",
       "WSPM         92\n",
       "station       0\n",
       "dtype: int64"
      ]
     },
     "execution_count": 4,
     "metadata": {},
     "output_type": "execute_result"
    }
   ],
   "source": [
    "data.isna().sum()"
   ]
  },
  {
   "cell_type": "code",
   "execution_count": 5,
   "id": "ee6698e4",
   "metadata": {},
   "outputs": [
    {
     "name": "stdout",
     "output_type": "stream",
     "text": [
      "No         0.000000\n",
      "year       0.000000\n",
      "month      0.000000\n",
      "day        0.000000\n",
      "hour       0.000000\n",
      "PM2.5      2.462640\n",
      "PM10       1.937885\n",
      "SO2        2.292950\n",
      "NO2        3.288273\n",
      "CO         4.196612\n",
      "O3         2.502567\n",
      "TEMP       0.148300\n",
      "PRES       0.146874\n",
      "DEWP       0.151152\n",
      "RAIN       0.151152\n",
      "wd         0.630276\n",
      "WSPM       0.131189\n",
      "station    0.000000\n",
      "dtype: float64\n"
     ]
    }
   ],
   "source": [
    "# Check percentage of missing values\n",
    "missing_percent = data.isnull().sum() / len(data) * 100\n",
    "print(missing_percent)"
   ]
  },
  {
   "cell_type": "code",
   "execution_count": 6,
   "id": "4891b547",
   "metadata": {},
   "outputs": [
    {
     "data": {
      "text/plain": [
       "np.int64(0)"
      ]
     },
     "execution_count": 6,
     "metadata": {},
     "output_type": "execute_result"
    }
   ],
   "source": [
    "data.duplicated().sum()"
   ]
  },
  {
   "cell_type": "code",
   "execution_count": 7,
   "id": "1d4fc288",
   "metadata": {},
   "outputs": [
    {
     "data": {
      "application/vnd.microsoft.datawrangler.viewer.v0+json": {
       "columns": [
        {
         "name": "index",
         "rawType": "int64",
         "type": "integer"
        },
        {
         "name": "Pollutant",
         "rawType": "object",
         "type": "string"
        },
        {
         "name": "Outlier Count",
         "rawType": "int64",
         "type": "integer"
        }
       ],
       "conversionMethod": "pd.DataFrame",
       "ref": "18f07c29-abaf-499c-87c0-77c6da920e2c",
       "rows": [
        [
         "0",
         "PM2.5",
         "3347"
        ],
        [
         "1",
         "PM10",
         "2358"
        ],
        [
         "2",
         "SO2",
         "6581"
        ],
        [
         "3",
         "NO2",
         "1677"
        ],
        [
         "4",
         "CO",
         "4036"
        ],
        [
         "5",
         "O3",
         "3170"
        ]
       ],
       "shape": {
        "columns": 2,
        "rows": 6
       }
      },
      "text/html": [
       "<div>\n",
       "<style scoped>\n",
       "    .dataframe tbody tr th:only-of-type {\n",
       "        vertical-align: middle;\n",
       "    }\n",
       "\n",
       "    .dataframe tbody tr th {\n",
       "        vertical-align: top;\n",
       "    }\n",
       "\n",
       "    .dataframe thead th {\n",
       "        text-align: right;\n",
       "    }\n",
       "</style>\n",
       "<table border=\"1\" class=\"dataframe\">\n",
       "  <thead>\n",
       "    <tr style=\"text-align: right;\">\n",
       "      <th></th>\n",
       "      <th>Pollutant</th>\n",
       "      <th>Outlier Count</th>\n",
       "    </tr>\n",
       "  </thead>\n",
       "  <tbody>\n",
       "    <tr>\n",
       "      <th>0</th>\n",
       "      <td>PM2.5</td>\n",
       "      <td>3347</td>\n",
       "    </tr>\n",
       "    <tr>\n",
       "      <th>1</th>\n",
       "      <td>PM10</td>\n",
       "      <td>2358</td>\n",
       "    </tr>\n",
       "    <tr>\n",
       "      <th>2</th>\n",
       "      <td>SO2</td>\n",
       "      <td>6581</td>\n",
       "    </tr>\n",
       "    <tr>\n",
       "      <th>3</th>\n",
       "      <td>NO2</td>\n",
       "      <td>1677</td>\n",
       "    </tr>\n",
       "    <tr>\n",
       "      <th>4</th>\n",
       "      <td>CO</td>\n",
       "      <td>4036</td>\n",
       "    </tr>\n",
       "    <tr>\n",
       "      <th>5</th>\n",
       "      <td>O3</td>\n",
       "      <td>3170</td>\n",
       "    </tr>\n",
       "  </tbody>\n",
       "</table>\n",
       "</div>"
      ],
      "text/plain": [
       "  Pollutant  Outlier Count\n",
       "0     PM2.5           3347\n",
       "1      PM10           2358\n",
       "2       SO2           6581\n",
       "3       NO2           1677\n",
       "4        CO           4036\n",
       "5        O3           3170"
      ]
     },
     "execution_count": 7,
     "metadata": {},
     "output_type": "execute_result"
    }
   ],
   "source": [
    "import pandas as pd\n",
    "\n",
    "def count_outliers(data, columns):\n",
    "    outlier_counts = {}\n",
    "\n",
    "    for column in columns:\n",
    "        # Calculate Q1 (25th percentile) and Q3 (75th percentile)\n",
    "        Q1 = data[column].quantile(0.25)\n",
    "        Q3 = data[column].quantile(0.75)\n",
    "\n",
    "        # Calculate the IQR (Interquartile Range)\n",
    "        IQR = Q3 - Q1\n",
    "\n",
    "        # Calculate lower and upper bounds\n",
    "        lower_bound = Q1 - 1.5 * IQR\n",
    "        upper_bound = Q3 + 1.5 * IQR\n",
    "\n",
    "        # Count the number of outliers (values outside the bounds)\n",
    "        outliers = data[(data[column] < lower_bound) | (data[column] > upper_bound)]\n",
    "        outlier_counts[column] = outliers.shape[0]\n",
    "\n",
    "    # Convert the outlier counts into a DataFrame\n",
    "    outlier_df = pd.DataFrame(list(outlier_counts.items()), columns=['Pollutant', 'Outlier Count'])\n",
    "    return outlier_df\n",
    "\n",
    "# Specify the columns (pollutants)\n",
    "pollutants = ['PM2.5', 'PM10', 'SO2', 'NO2', 'CO', 'O3']\n",
    "\n",
    "# Get the count of outliers per column\n",
    "outliers_per_column = count_outliers(data, pollutants)\n",
    "\n",
    "# Print out the DataFrame with the number of outliers per column\n",
    "outliers_per_column"
   ]
  },
  {
   "cell_type": "markdown",
   "id": "379608ff",
   "metadata": {},
   "source": [
    "## Task 2b: Data Preprocessing"
   ]
  },
  {
   "cell_type": "code",
   "execution_count": 8,
   "id": "ec78e7d5",
   "metadata": {},
   "outputs": [],
   "source": [
    "data = data.dropna()"
   ]
  },
  {
   "cell_type": "code",
   "execution_count": 9,
   "id": "22286df4",
   "metadata": {},
   "outputs": [],
   "source": [
    "data['datetime'] = pd.to_datetime(data[['year', 'month', 'day', 'hour']])\n",
    "\n",
    "cols = ['datetime'] + [col for col in data.columns if col != 'datetime']\n",
    "data = data[cols]\n",
    "\n",
    "data = data.drop(columns=['No', 'year', 'month', 'day', 'hour'])"
   ]
  },
  {
   "cell_type": "code",
   "execution_count": 10,
   "id": "ab3aa860",
   "metadata": {},
   "outputs": [
    {
     "data": {
      "application/vnd.microsoft.datawrangler.viewer.v0+json": {
       "columns": [
        {
         "name": "index",
         "rawType": "int64",
         "type": "integer"
        },
        {
         "name": "datetime",
         "rawType": "datetime64[ns]",
         "type": "datetime"
        },
        {
         "name": "PM2.5",
         "rawType": "float64",
         "type": "float"
        },
        {
         "name": "PM10",
         "rawType": "float64",
         "type": "float"
        },
        {
         "name": "SO2",
         "rawType": "float64",
         "type": "float"
        },
        {
         "name": "NO2",
         "rawType": "float64",
         "type": "float"
        },
        {
         "name": "CO",
         "rawType": "float64",
         "type": "float"
        },
        {
         "name": "O3",
         "rawType": "float64",
         "type": "float"
        },
        {
         "name": "TEMP",
         "rawType": "float64",
         "type": "float"
        },
        {
         "name": "PRES",
         "rawType": "float64",
         "type": "float"
        },
        {
         "name": "DEWP",
         "rawType": "float64",
         "type": "float"
        },
        {
         "name": "RAIN",
         "rawType": "float64",
         "type": "float"
        },
        {
         "name": "wd",
         "rawType": "object",
         "type": "string"
        },
        {
         "name": "WSPM",
         "rawType": "float64",
         "type": "float"
        },
        {
         "name": "station",
         "rawType": "object",
         "type": "string"
        }
       ],
       "conversionMethod": "pd.DataFrame",
       "ref": "71eb7f5d-1a66-4184-b308-a526be7f0a24",
       "rows": [
        [
         "0",
         "2013-03-01 00:00:00",
         "3.0",
         "6.0",
         "13.0",
         "7.0",
         "300.0",
         "85.0",
         "-2.3",
         "1020.8",
         "-19.7",
         "0.0",
         "E",
         "0.5",
         "Changping"
        ],
        [
         "1",
         "2013-03-01 01:00:00",
         "3.0",
         "3.0",
         "6.0",
         "6.0",
         "300.0",
         "85.0",
         "-2.5",
         "1021.3",
         "-19.0",
         "0.0",
         "ENE",
         "0.7",
         "Changping"
        ],
        [
         "2",
         "2013-03-01 02:00:00",
         "3.0",
         "3.0",
         "22.0",
         "13.0",
         "400.0",
         "74.0",
         "-3.0",
         "1021.3",
         "-19.9",
         "0.0",
         "ENE",
         "0.2",
         "Changping"
        ],
        [
         "3",
         "2013-03-01 03:00:00",
         "3.0",
         "6.0",
         "12.0",
         "8.0",
         "300.0",
         "81.0",
         "-3.6",
         "1021.8",
         "-19.1",
         "0.0",
         "NNE",
         "1.0",
         "Changping"
        ],
        [
         "4",
         "2013-03-01 04:00:00",
         "3.0",
         "3.0",
         "14.0",
         "8.0",
         "300.0",
         "81.0",
         "-3.5",
         "1022.3",
         "-19.4",
         "0.0",
         "N",
         "2.1",
         "Changping"
        ]
       ],
       "shape": {
        "columns": 14,
        "rows": 5
       }
      },
      "text/html": [
       "<div>\n",
       "<style scoped>\n",
       "    .dataframe tbody tr th:only-of-type {\n",
       "        vertical-align: middle;\n",
       "    }\n",
       "\n",
       "    .dataframe tbody tr th {\n",
       "        vertical-align: top;\n",
       "    }\n",
       "\n",
       "    .dataframe thead th {\n",
       "        text-align: right;\n",
       "    }\n",
       "</style>\n",
       "<table border=\"1\" class=\"dataframe\">\n",
       "  <thead>\n",
       "    <tr style=\"text-align: right;\">\n",
       "      <th></th>\n",
       "      <th>datetime</th>\n",
       "      <th>PM2.5</th>\n",
       "      <th>PM10</th>\n",
       "      <th>SO2</th>\n",
       "      <th>NO2</th>\n",
       "      <th>CO</th>\n",
       "      <th>O3</th>\n",
       "      <th>TEMP</th>\n",
       "      <th>PRES</th>\n",
       "      <th>DEWP</th>\n",
       "      <th>RAIN</th>\n",
       "      <th>wd</th>\n",
       "      <th>WSPM</th>\n",
       "      <th>station</th>\n",
       "    </tr>\n",
       "  </thead>\n",
       "  <tbody>\n",
       "    <tr>\n",
       "      <th>0</th>\n",
       "      <td>2013-03-01 00:00:00</td>\n",
       "      <td>3.0</td>\n",
       "      <td>6.0</td>\n",
       "      <td>13.0</td>\n",
       "      <td>7.0</td>\n",
       "      <td>300.0</td>\n",
       "      <td>85.0</td>\n",
       "      <td>-2.3</td>\n",
       "      <td>1020.8</td>\n",
       "      <td>-19.7</td>\n",
       "      <td>0.0</td>\n",
       "      <td>E</td>\n",
       "      <td>0.5</td>\n",
       "      <td>Changping</td>\n",
       "    </tr>\n",
       "    <tr>\n",
       "      <th>1</th>\n",
       "      <td>2013-03-01 01:00:00</td>\n",
       "      <td>3.0</td>\n",
       "      <td>3.0</td>\n",
       "      <td>6.0</td>\n",
       "      <td>6.0</td>\n",
       "      <td>300.0</td>\n",
       "      <td>85.0</td>\n",
       "      <td>-2.5</td>\n",
       "      <td>1021.3</td>\n",
       "      <td>-19.0</td>\n",
       "      <td>0.0</td>\n",
       "      <td>ENE</td>\n",
       "      <td>0.7</td>\n",
       "      <td>Changping</td>\n",
       "    </tr>\n",
       "    <tr>\n",
       "      <th>2</th>\n",
       "      <td>2013-03-01 02:00:00</td>\n",
       "      <td>3.0</td>\n",
       "      <td>3.0</td>\n",
       "      <td>22.0</td>\n",
       "      <td>13.0</td>\n",
       "      <td>400.0</td>\n",
       "      <td>74.0</td>\n",
       "      <td>-3.0</td>\n",
       "      <td>1021.3</td>\n",
       "      <td>-19.9</td>\n",
       "      <td>0.0</td>\n",
       "      <td>ENE</td>\n",
       "      <td>0.2</td>\n",
       "      <td>Changping</td>\n",
       "    </tr>\n",
       "    <tr>\n",
       "      <th>3</th>\n",
       "      <td>2013-03-01 03:00:00</td>\n",
       "      <td>3.0</td>\n",
       "      <td>6.0</td>\n",
       "      <td>12.0</td>\n",
       "      <td>8.0</td>\n",
       "      <td>300.0</td>\n",
       "      <td>81.0</td>\n",
       "      <td>-3.6</td>\n",
       "      <td>1021.8</td>\n",
       "      <td>-19.1</td>\n",
       "      <td>0.0</td>\n",
       "      <td>NNE</td>\n",
       "      <td>1.0</td>\n",
       "      <td>Changping</td>\n",
       "    </tr>\n",
       "    <tr>\n",
       "      <th>4</th>\n",
       "      <td>2013-03-01 04:00:00</td>\n",
       "      <td>3.0</td>\n",
       "      <td>3.0</td>\n",
       "      <td>14.0</td>\n",
       "      <td>8.0</td>\n",
       "      <td>300.0</td>\n",
       "      <td>81.0</td>\n",
       "      <td>-3.5</td>\n",
       "      <td>1022.3</td>\n",
       "      <td>-19.4</td>\n",
       "      <td>0.0</td>\n",
       "      <td>N</td>\n",
       "      <td>2.1</td>\n",
       "      <td>Changping</td>\n",
       "    </tr>\n",
       "  </tbody>\n",
       "</table>\n",
       "</div>"
      ],
      "text/plain": [
       "             datetime  PM2.5  PM10   SO2   NO2     CO    O3  TEMP    PRES  \\\n",
       "0 2013-03-01 00:00:00    3.0   6.0  13.0   7.0  300.0  85.0  -2.3  1020.8   \n",
       "1 2013-03-01 01:00:00    3.0   3.0   6.0   6.0  300.0  85.0  -2.5  1021.3   \n",
       "2 2013-03-01 02:00:00    3.0   3.0  22.0  13.0  400.0  74.0  -3.0  1021.3   \n",
       "3 2013-03-01 03:00:00    3.0   6.0  12.0   8.0  300.0  81.0  -3.6  1021.8   \n",
       "4 2013-03-01 04:00:00    3.0   3.0  14.0   8.0  300.0  81.0  -3.5  1022.3   \n",
       "\n",
       "   DEWP  RAIN   wd  WSPM    station  \n",
       "0 -19.7   0.0    E   0.5  Changping  \n",
       "1 -19.0   0.0  ENE   0.7  Changping  \n",
       "2 -19.9   0.0  ENE   0.2  Changping  \n",
       "3 -19.1   0.0  NNE   1.0  Changping  \n",
       "4 -19.4   0.0    N   2.1  Changping  "
      ]
     },
     "execution_count": 10,
     "metadata": {},
     "output_type": "execute_result"
    }
   ],
   "source": [
    "data.head()"
   ]
  },
  {
   "cell_type": "markdown",
   "id": "3108174a",
   "metadata": {},
   "source": [
    "## Task 2c: Statistical Summary & Visualisation"
   ]
  },
  {
   "cell_type": "markdown",
   "id": "c7b6343e",
   "metadata": {},
   "source": []
  }
 ],
 "metadata": {
  "kernelspec": {
   "display_name": "Python 3",
   "language": "python",
   "name": "python3"
  },
  "language_info": {
   "codemirror_mode": {
    "name": "ipython",
    "version": 3
   },
   "file_extension": ".py",
   "mimetype": "text/x-python",
   "name": "python",
   "nbconvert_exporter": "python",
   "pygments_lexer": "ipython3",
   "version": "3.13.3"
  }
 },
 "nbformat": 4,
 "nbformat_minor": 5
}
